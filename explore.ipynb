{
 "cells": [
  {
   "cell_type": "markdown",
   "metadata": {},
   "source": [
    "## El objetivo principal es lograr construir un modelo que sea sumamente efectio en la recomendación de peliculas para un usuario en expecifico."
   ]
  },
  {
   "cell_type": "code",
   "execution_count": 2,
   "metadata": {},
   "outputs": [],
   "source": [
    "# Importación de Librerias\n",
    "import pandas as pd\n",
    "from sklearn.model_selection import train_test_split\n",
    "from sklearn.metrics.pairwise import cosine_similarity\n",
    "from sklearn.neighbors import NearestNeighbors\n",
    "from sklearn.metrics import recall_score\n",
    "from sklearn.metrics import f1_score"
   ]
  },
  {
   "cell_type": "code",
   "execution_count": 3,
   "metadata": {},
   "outputs": [],
   "source": [
    "# Cargamos los datos\n",
    "df_movies = pd.read_csv(r'data/movies.csv')\n",
    "df_rating = pd.read_csv(r'data/ratings.csv')"
   ]
  },
  {
   "cell_type": "code",
   "execution_count": 4,
   "metadata": {},
   "outputs": [
    {
     "data": {
      "text/html": [
       "<div>\n",
       "<style scoped>\n",
       "    .dataframe tbody tr th:only-of-type {\n",
       "        vertical-align: middle;\n",
       "    }\n",
       "\n",
       "    .dataframe tbody tr th {\n",
       "        vertical-align: top;\n",
       "    }\n",
       "\n",
       "    .dataframe thead th {\n",
       "        text-align: right;\n",
       "    }\n",
       "</style>\n",
       "<table border=\"1\" class=\"dataframe\">\n",
       "  <thead>\n",
       "    <tr style=\"text-align: right;\">\n",
       "      <th></th>\n",
       "      <th>movieId</th>\n",
       "      <th>title</th>\n",
       "      <th>genres</th>\n",
       "    </tr>\n",
       "  </thead>\n",
       "  <tbody>\n",
       "    <tr>\n",
       "      <th>0</th>\n",
       "      <td>1</td>\n",
       "      <td>Toy Story (1995)</td>\n",
       "      <td>Adventure|Animation|Children|Comedy|Fantasy</td>\n",
       "    </tr>\n",
       "  </tbody>\n",
       "</table>\n",
       "</div>"
      ],
      "text/plain": [
       "   movieId             title                                       genres\n",
       "0        1  Toy Story (1995)  Adventure|Animation|Children|Comedy|Fantasy"
      ]
     },
     "execution_count": 4,
     "metadata": {},
     "output_type": "execute_result"
    }
   ],
   "source": [
    "df_movies.head(1)"
   ]
  },
  {
   "cell_type": "code",
   "execution_count": 5,
   "metadata": {},
   "outputs": [
    {
     "data": {
      "text/html": [
       "<div>\n",
       "<style scoped>\n",
       "    .dataframe tbody tr th:only-of-type {\n",
       "        vertical-align: middle;\n",
       "    }\n",
       "\n",
       "    .dataframe tbody tr th {\n",
       "        vertical-align: top;\n",
       "    }\n",
       "\n",
       "    .dataframe thead th {\n",
       "        text-align: right;\n",
       "    }\n",
       "</style>\n",
       "<table border=\"1\" class=\"dataframe\">\n",
       "  <thead>\n",
       "    <tr style=\"text-align: right;\">\n",
       "      <th></th>\n",
       "      <th>userId</th>\n",
       "      <th>movieId</th>\n",
       "      <th>rating</th>\n",
       "      <th>timestamp</th>\n",
       "    </tr>\n",
       "  </thead>\n",
       "  <tbody>\n",
       "    <tr>\n",
       "      <th>0</th>\n",
       "      <td>1</td>\n",
       "      <td>1</td>\n",
       "      <td>4.0</td>\n",
       "      <td>964982703</td>\n",
       "    </tr>\n",
       "  </tbody>\n",
       "</table>\n",
       "</div>"
      ],
      "text/plain": [
       "   userId  movieId  rating  timestamp\n",
       "0       1        1     4.0  964982703"
      ]
     },
     "execution_count": 5,
     "metadata": {},
     "output_type": "execute_result"
    }
   ],
   "source": [
    "df_rating.head(1)"
   ]
  },
  {
   "cell_type": "code",
   "execution_count": 6,
   "metadata": {},
   "outputs": [
    {
     "name": "stdout",
     "output_type": "stream",
     "text": [
      "El Dataframe que contiene los registros de las peliculas, cuenta con 0 duplicados.\n",
      "El Dataframe que contiene los registros de las raking, cuenta con 0 duplicados.\n"
     ]
    }
   ],
   "source": [
    "# Verificamos los duplicados\n",
    "print(f\"El Dataframe que contiene los registros de las peliculas, cuenta con {df_movies.duplicated().sum()} duplicados.\")\n",
    "print(f\"El Dataframe que contiene los registros de las raking, cuenta con {df_movies.duplicated().sum()} duplicados.\")"
   ]
  },
  {
   "cell_type": "code",
   "execution_count": 7,
   "metadata": {},
   "outputs": [
    {
     "data": {
      "text/plain": [
       "movieId    0\n",
       "title      0\n",
       "genres     0\n",
       "dtype: int64"
      ]
     },
     "execution_count": 7,
     "metadata": {},
     "output_type": "execute_result"
    }
   ],
   "source": [
    "# Verificamos los NaN\n",
    "df_movies.isna().sum()"
   ]
  },
  {
   "cell_type": "code",
   "execution_count": 8,
   "metadata": {},
   "outputs": [
    {
     "data": {
      "text/plain": [
       "userId       0\n",
       "movieId      0\n",
       "rating       0\n",
       "timestamp    0\n",
       "dtype: int64"
      ]
     },
     "execution_count": 8,
     "metadata": {},
     "output_type": "execute_result"
    }
   ],
   "source": [
    "# Verificamos los NaN\n",
    "df_rating.isna().sum()"
   ]
  },
  {
   "cell_type": "code",
   "execution_count": 9,
   "metadata": {},
   "outputs": [],
   "source": [
    "# Unimos los dos DataFrames\n",
    "data = df_rating.merge(df_movies, on='movieId')"
   ]
  },
  {
   "cell_type": "markdown",
   "metadata": {},
   "source": [
    "### En este enfoque, las recomendaciones se hacen en función de las preferencias de otros usuarios que son similares al usuario objetivo. En tu caso, estás buscando usuarios que son similares (basándote en la similitud del coseno de sus calificaciones de películas) y luego recomendando películas que esos usuarios similares han calificado pero que el usuario objetivo no ha visto."
   ]
  },
  {
   "cell_type": "code",
   "execution_count": 12,
   "metadata": {},
   "outputs": [
    {
     "name": "stdout",
     "output_type": "stream",
     "text": [
      "Top 5 películas recomendadas para UserId 602: ['Jack (1996)', 'American President, The (1995)', 'Toy Story (1995)', 'Richard III (1995)', 'Winnie the Pooh and the Blustery Day (1968)']\n",
      "La precisión del sistema de recomendación para el UserId 602 es: 0.20535714285714285\n",
      "El F1 score del algoritmo de recomendación para el UserId 602 es: 0.34074074074074073\n"
     ]
    }
   ],
   "source": [
    "# Dividimos los datos en un conjunto de entrenamiento y un conjunto de prueba\n",
    "train_data, test_data = train_test_split(data, test_size=0.2, random_state=42)\n",
    "\n",
    "# Convertimos el DataFrame en una matriz de usuario-película con las calificaciones como valores\n",
    "ratings_matrix = train_data.pivot_table(index='userId', columns='title', values='rating')\n",
    "\n",
    "# Rellenamos los valores NaN con 0, ya que la ausencia de calificación se puede interpretar como una calificación de 0\n",
    "ratings_matrix_filled = ratings_matrix.fillna(0)\n",
    "\n",
    "# Calculamos la similitud de coseno entre los usuarios\n",
    "user_similarity = cosine_similarity(ratings_matrix_filled)\n",
    "\n",
    "# Creamos un DataFrame de similitudes\n",
    "user_similarity_df = pd.DataFrame(user_similarity, index=ratings_matrix_filled.index, columns=ratings_matrix_filled.index)\n",
    "\n",
    "# Utilizamos k-NN para encontrar los vecinos más cercanos basados en la similitud de coseno\n",
    "knn = NearestNeighbors(metric='cosine', algorithm='brute', n_neighbors=10, n_jobs=-1)\n",
    "knn.fit(user_similarity_df)\n",
    "\n",
    "# Definimos una función para recomendar películas basadas en la similitud de usuarios\n",
    "def recomendar_peliculas_colaborativas(user_id):\n",
    "    # Obtenemos los usuarios similares al usuario dado\n",
    "    similar_users = user_similarity_df[user_id].sort_values(ascending=False)[1:11].index\n",
    "    \n",
    "    # Obtenemos las películas que los usuarios similares han calificado\n",
    "    peliculas_calificadas = train_data[train_data['userId'].isin(similar_users)]['title'].tolist()\n",
    "    \n",
    "    # Obtenemos las películas que el usuario dado no ha calificado\n",
    "    peliculas_no_calificadas = set(peliculas_calificadas) - set(train_data[train_data['userId'] == user_id]['title'].tolist())\n",
    "    \n",
    "    # Devolvemos las películas no calificadas como recomendaciones\n",
    "    return list(peliculas_no_calificadas)\n",
    "\n",
    "def calculate_recall(user_id, recommendations, test_data):\n",
    "    # Obtenemos las películas que el usuario ha calificado en el conjunto de prueba\n",
    "    test_movies = test_data[test_data['userId'] == user_id]['title'].tolist()\n",
    "    \n",
    "    # Calculamos el recall comparando las recomendaciones con las películas calificadas en el conjunto de prueba\n",
    "    recall = recall_score([movie in test_movies for movie in recommendations], [True]*len(recommendations))\n",
    "    \n",
    "    return recall\n",
    "\n",
    "def calculate_f1_score(user_id, recommendations, test_data):\n",
    "    # Obtenemos las películas que el usuario ha calificado en el conjunto de prueba\n",
    "    test_movies = test_data[test_data['userId'] == user_id]['title'].tolist()\n",
    "    \n",
    "    # Calculamos el F1 score comparando las recomendaciones con las películas calificadas en el conjunto de prueba\n",
    "    f1 = f1_score([movie in test_movies for movie in recommendations], [True]*len(recommendations))\n",
    "    \n",
    "    return f1\n",
    "\n",
    "# Ejemplo de uso:\n",
    "user_id = int(input(\"Ingresa el UserId para las recomendaciones: \"))\n",
    "peliculas_recomendadas = recomendar_peliculas_colaborativas(user_id)\n",
    "print(f\"Top 5 películas recomendadas para UserId {user_id}: {peliculas_recomendadas[:5]}\")\n",
    "\n",
    "# Ahora, podemos verificar el rendimiento de nuestro sistema de recomendación\n",
    "# Primero, obtenemos todas las películas que el usuario ha calificado en el conjunto de prueba\n",
    "peliculas_reales = test_data[test_data['userId'] == user_id]['title'].tolist()\n",
    "\n",
    "# Luego, calculamos la precisión como la proporción de recomendaciones que están en la lista de películas reales\n",
    "precision = len(set(peliculas_recomendadas) & set(peliculas_reales)) / len(peliculas_recomendadas)\n",
    "print(f\"La precisión del sistema de recomendación para el UserId {user_id} es: {precision}\")\n",
    "f1 = calculate_f1_score(user_id, peliculas_recomendadas, test_data)\n",
    "print(f\"El F1 score del algoritmo de recomendación para el UserId {user_id} es: {f1}\")"
   ]
  },
  {
   "cell_type": "markdown",
   "metadata": {},
   "source": [
    "### En este enfoque, hago recomendaciones en función de la similitud entre los ítems (en este caso, las películas). Para un usuario dado, encuentro películas que son similares a las que el usuario ha calificado altamente en el pasado y recomiendo esas películas."
   ]
  },
  {
   "cell_type": "code",
   "execution_count": null,
   "metadata": {},
   "outputs": [
    {
     "name": "stdout",
     "output_type": "stream",
     "text": [
      "Index(['Twelve Monkeys (a.k.a. 12 Monkeys) (1995)', 'Batman (1989)',\n",
      "       'Mission: Impossible (1996)', 'Independence Day (a.k.a. ID4) (1996)',\n",
      "       'Toy Story (1995)'],\n",
      "      dtype='object', name='title')\n"
     ]
    }
   ],
   "source": [
    "# Crear una tabla pivot con usuarios como filas y películas como columnas\n",
    "pivot_table = data.pivot_table(index='userId', columns='title', values='rating')\n",
    "\n",
    "# Rellenar los valores NA con 0\n",
    "pivot_table.fillna(0, inplace=True)\n",
    "\n",
    "# Calcular la similitud del coseno entre las películas\n",
    "item_cosine_sim = cosine_similarity(pivot_table.T)\n",
    "\n",
    "# Convertir los resultados a un DataFrame\n",
    "item_cosine_sim_df = pd.DataFrame(item_cosine_sim, index=pivot_table.columns, columns=pivot_table.columns)\n",
    "\n",
    "def recommend_movies(user_id, num_recommendations=5):\n",
    "    # Obtener las películas que el usuario ha calificado\n",
    "    user_movies = data[data['userId'] == user_id]['title']\n",
    "    \n",
    "    # Calcular la similitud total de todas las películas que el usuario ha calificado\n",
    "    total_similarity = item_cosine_sim_df[user_movies].sum(axis=1)\n",
    "    \n",
    "    # Calcular la puntuación de recomendación para cada película\n",
    "    recommendation_scores = total_similarity / len(user_movies)\n",
    "    \n",
    "    # Ordenar las películas por puntuación de recomendación y devolver las más altas\n",
    "    recommended_movies = recommendation_scores.sort_values(ascending=False)\n",
    "    \n",
    "    return recommended_movies.index[:num_recommendations]\n",
    "\n",
    "# Probar la función con un ID de usuario\n",
    "print(recommend_movies(32))"
   ]
  },
  {
   "cell_type": "markdown",
   "metadata": {},
   "source": [
    "## Reflexiones\n",
    "El modelo actual presenta un amplio margen para mejoras. Para lograrlo, necesito enfocarme en la optimización del modelo y en la mejora de la base de datos con la que estoy trabajando.\n",
    "A pesar de que el porcentaje de precisión puede parecer bajo, es importante destacar que el algoritmo demuestra su capacidad para ofrecer recomendaciones de películas que el usuario no ha visto anteriormente. Esto indica que el sistema está funcionando correctamente en su objetivo principal de descubrir y sugerir contenido nuevo para el usuario."
   ]
  }
 ],
 "metadata": {
  "kernelspec": {
   "display_name": "Python 3 (ipykernel)",
   "language": "python",
   "name": "python3"
  },
  "language_info": {
   "codemirror_mode": {
    "name": "ipython",
    "version": 3
   },
   "file_extension": ".py",
   "mimetype": "text/x-python",
   "name": "python",
   "nbconvert_exporter": "python",
   "pygments_lexer": "ipython3",
   "version": "3.10.13"
  }
 },
 "nbformat": 4,
 "nbformat_minor": 2
}
